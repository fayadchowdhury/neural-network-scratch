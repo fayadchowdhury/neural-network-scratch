{
 "cells": [
  {
   "cell_type": "markdown",
   "id": "0e1be29e-4cff-4a74-9304-437d48c6235d",
   "metadata": {},
   "source": [
    "# Attempting to build a neural network from scratch using NumPy"
   ]
  },
  {
   "cell_type": "markdown",
   "id": "e73b5e3e-fad1-4726-b4e8-f7c5a4cab5b0",
   "metadata": {},
   "source": [
    "The goal is to build a simple Feed Forward Neural Network that can perform image classification on the MNIST dataset and see if it also works on the Fashion MNIST dataset, but only using NumPy (and maybe some visualizations for my own sake).\n",
    "\n",
    "Idea from Green Code on YouTube"
   ]
  },
  {
   "cell_type": "markdown",
   "id": "fa39df8d-ab3d-4e87-8c4f-4d0f9ac0c7cf",
   "metadata": {},
   "source": [
    "## Import libraries... well... just NumPy"
   ]
  },
  {
   "cell_type": "code",
   "execution_count": 1,
   "id": "b816de2a-d361-4e29-854b-a9419cf05df8",
   "metadata": {},
   "outputs": [],
   "source": [
    "import numpy as np"
   ]
  },
  {
   "cell_type": "markdown",
   "id": "6557fbb3-4f2f-451f-bcdc-806573337b4d",
   "metadata": {},
   "source": [
    "## Details"
   ]
  },
  {
   "cell_type": "markdown",
   "id": "27f0ebe7-88b0-45bd-a138-96dba44861c9",
   "metadata": {},
   "source": [
    "A neural network will have:\n",
    "<ul>\n",
    "    <li>Inputs</li>\n",
    "    <li>Multiple neurons</li>\n",
    "    <li>Connections between neurons</li>\n",
    "    <li>Outputs</li>\n",
    "</ul>"
   ]
  },
  {
   "cell_type": "markdown",
   "id": "205ccc76-9b01-47e7-aaca-e3bfd4deda72",
   "metadata": {},
   "source": [
    "Since I will be focusing only on a basic Feed Forward Neural Network, I can think of a single neuron as:\n",
    "\n",
    "![title](../assets/single_neuron.png)\n",
    "\n",
    "Mathematically, this involves:\n",
    "<ul>\n",
    "    <li>Weighted sum</li>\n",
    "    <li>Non-linear function, or activation</li>\n",
    "</ul>"
   ]
  },
  {
   "cell_type": "markdown",
   "id": "caae95cb-f8d1-4657-949f-45cabf607a29",
   "metadata": {},
   "source": [
    "## Input"
   ]
  },
  {
   "cell_type": "markdown",
   "id": "2bdc33e8-d66b-463f-8150-510f4d30cd07",
   "metadata": {},
   "source": [
    "Let us consider a dataset of images.\n",
    "<ul>\n",
    "    <li>100 images</li>\n",
    "    <li>Each image is 32x32 pixels with 1 channel</li>\n",
    "</ul>\n",
    "\n",
    "Considering that we flatten each pixel in an image to a linear array, we get an array of 32x32 = 1024 values.\n",
    "\n",
    "Therefore, there will be 100 individual inputs of 1024 elements each.\n",
    "\n",
    "To generalize this, if we take the number of samples in the dataset to be N and the number of features or elements in each sample to be M, the overall input array will be an NxM matrix where each column is a flattened representation of one image in the dataset."
   ]
  },
  {
   "cell_type": "code",
   "execution_count": 2,
   "id": "34131a9e-ae61-4632-85b9-173cdf4da8c1",
   "metadata": {},
   "outputs": [],
   "source": [
    "# Faux input description\n",
    "NUM_SAMPLES = 100\n",
    "WIDTH = 32\n",
    "HEIGHT = 32\n",
    "M = WIDTH * HEIGHT"
   ]
  },
  {
   "cell_type": "code",
   "execution_count": 3,
   "id": "6ecf8368-3329-48c9-958b-2d4dfae8a889",
   "metadata": {},
   "outputs": [
    {
     "name": "stdout",
     "output_type": "stream",
     "text": [
      "Input\n",
      "[[ 0.70828555 -1.14134981  0.40991814 ... -0.42983519  0.54212707\n",
      "   1.84919195]\n",
      " [-0.39127704  0.22836287  0.26580335 ... -0.41163135 -0.41355685\n",
      "   0.12145822]\n",
      " [ 0.88739322  1.60616609  0.55957971 ... -0.54977064 -0.3869686\n",
      "   0.76635303]\n",
      " ...\n",
      " [ 1.22599396 -2.27432461  0.86880996 ...  1.57627431 -1.214449\n",
      "  -0.32336174]\n",
      " [ 1.65064186 -0.2983863   0.54441723 ...  0.76436665 -0.68017548\n",
      "  -0.75038653]\n",
      " [-1.14860834  0.25911003 -0.21023958 ...  1.08614286 -0.5058246\n",
      "  -0.2569    ]]\n"
     ]
    }
   ],
   "source": [
    "# Faux input\n",
    "X = np.random.randn(NUM_SAMPLES,M)\n",
    "print(\"Input\")\n",
    "print(X)"
   ]
  },
  {
   "cell_type": "markdown",
   "id": "481b4672-54f8-42fc-a110-3001604a829d",
   "metadata": {},
   "source": [
    "## Outputs"
   ]
  },
  {
   "cell_type": "markdown",
   "id": "96be22f4-c601-465f-aa6d-d7a2b0ca4333",
   "metadata": {},
   "source": [
    "Let us assume that the 100 images are labeled into 10 classes. This becomes "
   ]
  },
  {
   "cell_type": "markdown",
   "id": "c320ab6d-5938-4542-b4bc-468f5a7d65ed",
   "metadata": {},
   "source": [
    "## Weights"
   ]
  },
  {
   "cell_type": "markdown",
   "id": "45bfca14-4ec6-499d-aae2-7b10fd85b885",
   "metadata": {},
   "source": []
  },
  {
   "cell_type": "code",
   "execution_count": 4,
   "id": "70a4d216-106a-497b-9ae0-03875c5901f6",
   "metadata": {},
   "outputs": [
    {
     "ename": "SyntaxError",
     "evalue": "invalid syntax (702581706.py, line 1)",
     "output_type": "error",
     "traceback": [
      "\u001b[0;36m  Cell \u001b[0;32mIn[4], line 1\u001b[0;36m\u001b[0m\n\u001b[0;31m    W =\u001b[0m\n\u001b[0m        ^\u001b[0m\n\u001b[0;31mSyntaxError\u001b[0m\u001b[0;31m:\u001b[0m invalid syntax\n"
     ]
    }
   ],
   "source": [
    "W = "
   ]
  },
  {
   "cell_type": "code",
   "execution_count": 5,
   "id": "3e96fa15-6c94-4918-85df-61f49243e6ed",
   "metadata": {},
   "outputs": [
    {
     "name": "stdout",
     "output_type": "stream",
     "text": [
      "[[1. 2. 3.]\n",
      " [4. 5. 6.]]\n",
      "[[1.]\n",
      " [2.]\n",
      " [3.]]\n",
      "[[14.]\n",
      " [32.]]\n",
      "(2, 1)\n"
     ]
    }
   ],
   "source": [
    "W = np.array([[1, 2, 3], [4, 5, 6]], dtype=float)\n",
    "x = np.array([[1], [2], [3]], dtype=float)\n",
    "dot = np.dot(W, x)\n",
    "print(W)\n",
    "print(x)\n",
    "print(dot)\n",
    "print(dot.shape)"
   ]
  },
  {
   "cell_type": "code",
   "execution_count": null,
   "id": "d33a00c1-f104-495d-9a25-0778205a9cc5",
   "metadata": {},
   "outputs": [],
   "source": []
  }
 ],
 "metadata": {
  "kernelspec": {
   "display_name": "Python 3 (ipykernel)",
   "language": "python",
   "name": "python3"
  },
  "language_info": {
   "codemirror_mode": {
    "name": "ipython",
    "version": 3
   },
   "file_extension": ".py",
   "mimetype": "text/x-python",
   "name": "python",
   "nbconvert_exporter": "python",
   "pygments_lexer": "ipython3",
   "version": "3.10.14"
  }
 },
 "nbformat": 4,
 "nbformat_minor": 5
}
