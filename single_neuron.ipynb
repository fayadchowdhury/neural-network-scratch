{
 "cells": [
  {
   "cell_type": "markdown",
   "id": "13c8de6a-028d-4bfe-b8af-202bfd9c39e1",
   "metadata": {},
   "source": [
    "# Single neuron"
   ]
  },
  {
   "cell_type": "code",
   "execution_count": 1,
   "id": "8f45e359-215b-4a1b-aca8-e8586a2584c8",
   "metadata": {},
   "outputs": [],
   "source": [
    "import numpy as np"
   ]
  },
  {
   "cell_type": "code",
   "execution_count": 2,
   "id": "aec027e9-ea0d-4bce-b8ae-9a1a18d67162",
   "metadata": {},
   "outputs": [],
   "source": [
    "X = np.array([\n",
    "    [1, 2, 3],\n",
    "    [4, 5, 6],\n",
    "], dtype=float)\n",
    "\n",
    "Y = np.array([\n",
    "    [14],\n",
    "    [32]\n",
    "],dtype=float)"
   ]
  },
  {
   "cell_type": "code",
   "execution_count": 3,
   "id": "c17e20af-b468-49b1-afed-3484690a58f9",
   "metadata": {},
   "outputs": [
    {
     "name": "stdout",
     "output_type": "stream",
     "text": [
      "[[1. 2. 3.]\n",
      " [4. 5. 6.]]\n",
      "---\n",
      "[[14.]\n",
      " [32.]]\n"
     ]
    }
   ],
   "source": [
    "print(X)\n",
    "print(\"---\")\n",
    "print(Y)"
   ]
  },
  {
   "cell_type": "code",
   "execution_count": 4,
   "id": "326a203d-a23e-461c-be03-0f2e2652adac",
   "metadata": {},
   "outputs": [],
   "source": [
    "W = np.array([\n",
    "    [1],\n",
    "    [2],\n",
    "    [3]\n",
    "], dtype=float)"
   ]
  },
  {
   "cell_type": "code",
   "execution_count": 13,
   "id": "e05bf69d-76dd-4f85-b3bc-cc33fc3ad520",
   "metadata": {},
   "outputs": [],
   "source": [
    "out = np.dot(X, W)"
   ]
  },
  {
   "cell_type": "code",
   "execution_count": 14,
   "id": "81d32e59-1a71-49a0-b4e0-995583d50702",
   "metadata": {},
   "outputs": [
    {
     "name": "stdout",
     "output_type": "stream",
     "text": [
      "[[14.]\n",
      " [32.]]\n"
     ]
    }
   ],
   "source": [
    "print(out)"
   ]
  },
  {
   "cell_type": "code",
   "execution_count": null,
   "id": "a884a4f6-0570-4786-a61b-1cc9297ac01b",
   "metadata": {},
   "outputs": [],
   "source": []
  }
 ],
 "metadata": {
  "kernelspec": {
   "display_name": "Python 3 (ipykernel)",
   "language": "python",
   "name": "python3"
  },
  "language_info": {
   "codemirror_mode": {
    "name": "ipython",
    "version": 3
   },
   "file_extension": ".py",
   "mimetype": "text/x-python",
   "name": "python",
   "nbconvert_exporter": "python",
   "pygments_lexer": "ipython3",
   "version": "3.10.14"
  }
 },
 "nbformat": 4,
 "nbformat_minor": 5
}
